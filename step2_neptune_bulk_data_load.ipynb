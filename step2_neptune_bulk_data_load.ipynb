{
 "cells": [
  {
   "cell_type": "code",
   "execution_count": 12,
   "id": "ac4fdbe8-caac-4b72-97a9-2c57dcd2e4b7",
   "metadata": {
    "tags": []
   },
   "outputs": [],
   "source": [
    "import requests, json\n",
    "import boto3"
   ]
  },
  {
   "cell_type": "code",
   "execution_count": null,
   "id": "2342cf5c-225a-40b6-a96b-7630066accba",
   "metadata": {
    "tags": []
   },
   "outputs": [],
   "source": [
    "import boto3\n",
    "import pandas as pd\n",
    "from sagemaker import get_execution_role"
   ]
  },
  {
   "cell_type": "code",
   "execution_count": 37,
   "id": "73c14cd4-87eb-47d8-9e4c-9652e5b14bc7",
   "metadata": {
    "tags": []
   },
   "outputs": [
    {
     "name": "stdout",
     "output_type": "stream",
     "text": [
      "<botocore.client.S3 object at 0x7f0a34780610>\n"
     ]
    }
   ],
   "source": [
    "bucket_name = 'dev-input' #change bucket name\n",
    "s3 = boto3.client('s3')\n",
    "print(s3)"
   ]
  },
  {
   "cell_type": "code",
   "execution_count": 35,
   "id": "5e213dc6-2b77-4daf-bcfb-2ae3e190b74d",
   "metadata": {
    "tags": []
   },
   "outputs": [],
   "source": [
    "PORT = 8182\n",
    "SERVER = \"db-neptune-1-instance-1.cfaicgyug7jh.ap-southeast-2.neptune.amazonaws.com\"\n",
    "ENDPOINT = f\"https://{SERVER}:{PORT}/loader\""
   ]
  },
  {
   "cell_type": "code",
   "execution_count": 38,
   "id": "9fdae7e8-a2e7-47b5-8c02-cba2022f9661",
   "metadata": {
    "tags": []
   },
   "outputs": [
    {
     "name": "stdout",
     "output_type": "stream",
     "text": [
      "{'detailedMessage': 'Unable to connect to s3 endpoint. Provided source = s3://dev-input/ and region = ap-southeast-2. Please verify your S3 configuration.', 'code': 'InternalFailureException', 'requestId': '36c8bf3d-d5c1-913d-3a66-bfb6c147d06d', 'message': 'Unable to connect to s3 endpoint. Provided source = s3://dev-input/ and region = ap-southeast-2. Please verify your S3 configuration.'}\n"
     ]
    }
   ],
   "source": [
    "#Load data from S3 bucket into neptune DB instnace\n",
    "#change file name\n",
    "\n",
    "headers = {'Content-type': 'application/json'}\n",
    "data = {\n",
    "    \"source\" :\"s3://dev-input/output.ttl\",\n",
    "    \"format\" : \"ttl\",\n",
    "    \"iamRoleArn\" : \"arn:aws:iam::389542538384:role/NeptuneLoadFromS3\",\n",
    "    \"region\" : \"ap-southeast-2\",\n",
    "    \"failOnError\" : \"FALSE\",\n",
    "    \"parallelism\" : \"MEDIUM\",\n",
    "    \"updateSingleCardinalityProperties\" : \"FALSE\",\n",
    "    \"queueRequest\" : \"TRUE\"\n",
    "}\n",
    "\n",
    "resp = requests.post(ENDPOINT, data=json.dumps(data), headers=headers)\n",
    "print(resp.json())"
   ]
  },
  {
   "cell_type": "code",
   "execution_count": 21,
   "id": "cc59c0ae-040e-4bf3-a151-77e1f56ff71c",
   "metadata": {
    "tags": []
   },
   "outputs": [
    {
     "data": {
      "application/vnd.jupyter.widget-view+json": {
       "model_id": "549b3a8f899d47fb972a05abbbaf1489",
       "version_major": 2,
       "version_minor": 0
      },
      "text/plain": [
       "Tab(children=(Output(layout=Layout(max_height='600px', max_width='940px', overflow='scroll')), Output(layout=L…"
      ]
     },
     "metadata": {},
     "output_type": "display_data"
    }
   ],
   "source": [
    "%%oc\n",
    "MATCH (n)\n",
    "RETURN COUNT(*);"
   ]
  },
  {
   "cell_type": "markdown",
   "id": "1dfb6bc6-0f6e-4c17-8bee-5bd72cfd81ce",
   "metadata": {
    "tags": []
   },
   "source": [
    "curl -X POST \\\n",
    "    -H 'Content-Type: application/json' \\\n",
    "    https://your-neptune-endpoint:port/loader -d '\n",
    "    {\n",
    "      \"source\" : \"s3://bucket-name/object-key-name\",\n",
    "      \"format\" : \"format\",\n",
    "      \"iamRoleArn\" : \"arn:aws:iam::account-id:role/role-name\",\n",
    "      \"region\" : \"region\",\n",
    "      \"failOnError\" : \"FALSE\",\n",
    "      \"parallelism\" : \"MEDIUM\",\n",
    "      \"updateSingleCardinalityProperties\" : \"FALSE\",\n",
    "      \"queueRequest\" : \"TRUE\",\n",
    "      \"dependencies\" : [\"load_A_id\", \"load_B_id\"]\n",
    "    }'"
   ]
  },
  {
   "cell_type": "code",
   "execution_count": null,
   "id": "2188c457-d781-4adb-9617-de253a261995",
   "metadata": {},
   "outputs": [],
   "source": []
  }
 ],
 "metadata": {
  "kernelspec": {
   "display_name": "Python 3",
   "language": "python",
   "name": "python3"
  },
  "language_info": {
   "codemirror_mode": {
    "name": "ipython",
    "version": 3
   },
   "file_extension": ".py",
   "mimetype": "text/x-python",
   "name": "python",
   "nbconvert_exporter": "python",
   "pygments_lexer": "ipython3",
   "version": "3.10.8"
  }
 },
 "nbformat": 4,
 "nbformat_minor": 5
}
