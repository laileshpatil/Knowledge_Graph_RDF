{
 "cells": [
  {
   "cell_type": "code",
   "execution_count": null,
   "metadata": {},
   "outputs": [],
   "source": [
    "import boto3\n",
    "import csv\n",
    "import io\n",
    "\n",
    "def split_large_csv(s3_bucket, source_key, chunk_size, output_prefix):\n",
    "    s3_client = boto3.client('s3')\n",
    "    \n",
    "    # Get the object from S3\n",
    "    response = s3_client.get_object(Bucket=s3_bucket, Key=source_key)\n",
    "    body = response['Body']\n",
    "    \n",
    "    # Create a CSV reader\n",
    "    csv_reader = csv.reader(io.TextIOWrapper(body, encoding='utf-8'))\n",
    "    \n",
    "    # Initialize variables\n",
    "    header = next(csv_reader)  # Read the header\n",
    "    chunk_number = 0\n",
    "    current_chunk = []\n",
    "    \n",
    "    for row in csv_reader:\n",
    "        current_chunk.append(row)\n",
    "        \n",
    "        # If the current chunk reaches the specified size, write it to S3\n",
    "        if len(current_chunk) >= chunk_size:\n",
    "            chunk_number += 1\n",
    "            write_chunk_to_s3(s3_client, current_chunk, header, s3_bucket, output_prefix, chunk_number)\n",
    "            current_chunk = []  # Reset for the next chunk\n",
    "    \n",
    "    # Write any remaining rows in the last chunk\n",
    "    if current_chunk:\n",
    "        chunk_number += 1\n",
    "        write_chunk_to_s3(s3_client, current_chunk, header, s3_bucket, output_prefix, chunk_number)\n",
    "\n",
    "def write_chunk_to_s3(s3_client, chunk, header, s3_bucket, output_prefix, chunk_number):\n",
    "    output_key = f\"{output_prefix}/chunk_{chunk_number}.csv\"\n",
    "    output = io.StringIO()\n",
    "    \n",
    "    # Create a CSV writer\n",
    "    csv_writer = csv.writer(output)\n",
    "    csv_writer.writerow(header)  # Write the header\n",
    "    csv_writer.writerows(chunk)   # Write the chunk rows\n",
    "    \n",
    "    # Upload the chunk to S3\n",
    "    s3_client.put_object(Bucket=s3_bucket, Key=output_key, Body=output.getvalue())\n",
    "    print(f\"Uploaded {output_key}\")\n",
    "\n",
    "# Example usage\n",
    "split_large_csv('your-bucket-name', 'path/to/large_file.csv', 10000, 'path/to/output')"
   ]
  }
 ],
 "metadata": {
  "language_info": {
   "name": "python"
  }
 },
 "nbformat": 4,
 "nbformat_minor": 2
}
